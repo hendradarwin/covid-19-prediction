{
 "cells": [
  {
    "cell_type": "markdown",
    "metadata": {
        "colab_type": "text",
        "id": "view-in-github"
    },
    "source": [
        "<a href=\"https://colab.research.google.com/github/hendradarwin/covid-19-prediction/blob/master/Covid_World_New_Death_Case_Prediction.ipynb\" target=\"_parent\"><img src=\"https://colab.research.google.com/assets/colab-badge.svg\" alt=\"Open In Colab\"/></a>"
    ]
  },
  {
   "cell_type": "markdown",
   "metadata": {
    "colab_type": "text",
    "id": "OR_Ige6y2k5u"
   },
   "source": [
    "# Prediction New Death Cases Global Covid-19 Cases\n"
   ]
  },
  {
   "cell_type": "markdown",
   "metadata": {
    "colab_type": "text",
    "id": "22ULKmYFvy76"
   },
   "source": [
    "## Load Data and Import Libraries Section"
   ]
  },
  {
   "cell_type": "code",
   "execution_count": null,
   "metadata": {
    "colab": {
     "base_uri": "https://localhost:8080/",
     "height": 33
    },
    "colab_type": "code",
    "id": "sl0lYNd3fy_b",
    "outputId": "8b98e1c5-ccf5-492a-bba5-d0862403d6d7"
   },
   "outputs": [],
   "source": [
    "# Use some functions from tensorflow_docs\n",
    "!pip install -q git+https://github.com/tensorflow/docs"
   ]
  },
  {
   "cell_type": "code",
   "execution_count": null,
   "metadata": {
    "colab": {
     "base_uri": "https://localhost:8080/",
     "height": 232
    },
    "colab_type": "code",
    "id": "a2NWPZfsgDIK",
    "outputId": "0ddb8bd7-42b1-4dfe-b6ae-6206a6acd0b6"
   },
   "outputs": [],
   "source": [
    "# %tensorflow_version 2.x # make sure that collab use tensorflow 2\n",
    "import numpy as np\n",
    "import tensorflow as tf\n",
    "import tensorflow_probability as tfp\n",
    "from tensorflow import keras\n",
    "import pandas as pd\n",
    "import seaborn as sns\n",
    "from pylab import rcParams\n",
    "import matplotlib.pyplot as plt\n",
    "from matplotlib import rc\n",
    "import os\n",
    "import datetime\n",
    "import tensorflow_docs as tfdocs\n",
    "import tensorflow_docs.plots\n",
    "import tensorflow_docs.modeling\n",
    "# from google.colab import drive\n",
    "# drive.mount('/content/drive')\n",
    "\n",
    "%matplotlib inline\n",
    "%config InlineBackend.figure_format='retina'\n",
    "\n",
    "sns.set(style='whitegrid', palette='muted', font_scale=1.5)\n",
    "rcParams['figure.figsize'] = 16, 10\n"
   ]
  },
  {
   "cell_type": "code",
   "execution_count": null,
   "metadata": {
    "colab": {},
    "colab_type": "code",
    "id": "kdjCHYXw_Nts"
   },
   "outputs": [],
   "source": [
    "# !rm '/root/.keras/datasets/global_total.csv'"
   ]
  },
  {
   "cell_type": "markdown",
   "metadata": {
    "colab_type": "text",
    "id": "UznvPYybT3x1"
   },
   "source": [
    "## Load Data"
   ]
  },
  {
   "cell_type": "code",
   "execution_count": null,
   "metadata": {
    "colab": {},
    "colab_type": "code",
    "id": "vDMbKpoJszwi"
   },
   "outputs": [],
   "source": [
    "\n",
    "df_new_cases = pd.read_csv(\"https://raw.githubusercontent.com/virgiawan/covid-19-prediction/linear-regression/dataset/corona-virus/new_cases.csv\")\n",
    "df_total_cases = pd.read_csv(\"https://raw.githubusercontent.com/virgiawan/covid-19-prediction/linear-regression/dataset/corona-virus/total_cases.csv\")\n",
    "df_new_deaths = pd.read_csv(\"https://raw.githubusercontent.com/virgiawan/covid-19-prediction/linear-regression/dataset/corona-virus/new_deaths.csv\")\n",
    "df_new_deaths = pd.read_csv(\"https://raw.githubusercontent.com/virgiawan/covid-19-prediction/linear-regression/dataset/corona-virus/new_deaths.csv\")"
   ]
  },
  {
   "cell_type": "code",
   "execution_count": null,
   "metadata": {
    "colab": {
     "base_uri": "https://localhost:8080/",
     "height": 391
    },
    "colab_type": "code",
    "id": "LvmQh1IJUy-l",
    "outputId": "09b17ba6-e3c0-4080-90e8-2880bb48b768"
   },
   "outputs": [],
   "source": [
    "np_data = np.array([df_new_cases['World'], df_total_cases['World'], df_new_deaths['World']]).T\n",
    "dataset = pd.DataFrame({'new_cases': np_data[:, 0], 'total_cases': np_data[:, 1], 'new_deaths': np_data[:, 2]})\n",
    "dataset"
   ]
  },
  {
   "cell_type": "markdown",
   "metadata": {
    "colab_type": "text",
    "id": "FkG-Ql3CViYw"
   },
   "source": [
    "## Data Exploration"
   ]
  },
  {
   "cell_type": "code",
   "execution_count": null,
   "metadata": {
    "colab": {
     "base_uri": "https://localhost:8080/",
     "height": 625
    },
    "colab_type": "code",
    "id": "oLpVG2z5Ik5a",
    "outputId": "14f92d05-2863-479d-df01-8bb6012743ba"
   },
   "outputs": [],
   "source": [
    "dataset.plot(subplots=True)"
   ]
  },
  {
   "cell_type": "code",
   "execution_count": null,
   "metadata": {
    "colab": {
     "base_uri": "https://localhost:8080/",
     "height": 657
    },
    "colab_type": "code",
    "id": "fD86lgqYGlKN",
    "outputId": "5c634ddd-9718-4cf4-9053-dd6ef6c98af8"
   },
   "outputs": [],
   "source": [
    "# Correlation between new_cases and new_deaths\n",
    "cor_new_and_death_cases = np.corrcoef(dataset['new_cases'], \n",
    "                                      dataset['new_deaths'])[0, 1]\n",
    "print(\"Coefisien correlation between new cases and new deaths %f\" \n",
    "      %(cor_new_and_death_cases))\n",
    "dataset.plot(kind='scatter', x='new_cases', \n",
    "             y='new_deaths', color='red', \n",
    "             title='Scatter Plot New Cases and New Death Cases')\n",
    "plt.show()"
   ]
  },
  {
   "cell_type": "code",
   "execution_count": null,
   "metadata": {
    "colab": {
     "base_uri": "https://localhost:8080/",
     "height": 658
    },
    "colab_type": "code",
    "id": "mxGpru0qZPdn",
    "outputId": "95681f10-3dfb-4fbb-d006-715e26a322f8"
   },
   "outputs": [],
   "source": [
    "# Correlation between total_cases and new_deaths\n",
    "cor_total_and_death_cases = np.corrcoef(dataset['total_cases'], \n",
    "                                      dataset['new_deaths'])[0, 1]\n",
    "print(\"Coefisien correlation between new cases and new deaths %f\" \n",
    "      %(cor_total_and_death_cases))\n",
    "dataset.plot(kind='scatter', x='total_cases', \n",
    "             y='new_deaths', color='red', \n",
    "             title='Scatter Plot Total Cases and New Death Cases')\n",
    "plt.show()"
   ]
  },
  {
   "cell_type": "markdown",
   "metadata": {
    "colab_type": "text",
    "id": "St6ohnMkZjej"
   },
   "source": [
    "From scatter plot and cofisien correlation value, we can see that `new cases and new deaths` and `total cases and new deaths` have strong correlations"
   ]
  },
  {
   "cell_type": "markdown",
   "metadata": {
    "colab_type": "text",
    "id": "4RDh4T6JZ6cq"
   },
   "source": [
    "## Data Preprocessing"
   ]
  },
  {
   "cell_type": "code",
   "execution_count": null,
   "metadata": {
    "colab": {
     "base_uri": "https://localhost:8080/",
     "height": 1000
    },
    "colab_type": "code",
    "id": "xNAlwX0jZ_cc",
    "outputId": "05cc275c-307e-4911-964e-f0ba93b72668"
   },
   "outputs": [],
   "source": [
    "\n",
    "dataset = dataset[dataset['new_deaths'] != 0] # remove 0 value on new death cases\n",
    "pd.set_option('display.max_rows', dataset.shape[0]+1)\n",
    "dataset.index = pd.RangeIndex(len(dataset.index)) # reset index\n",
    "dataset"
   ]
  },
  {
   "cell_type": "markdown",
   "metadata": {
    "colab_type": "text",
    "id": "Em4BJTeub6hJ"
   },
   "source": [
    "## Split the data (data training and testing)"
   ]
  },
  {
   "cell_type": "code",
   "execution_count": null,
   "metadata": {
    "colab": {},
    "colab_type": "code",
    "id": "hxZR34NfX5Fw"
   },
   "outputs": [],
   "source": [
    "train_size = int(len(dataset['new_cases']) * 0.7)\n",
    "test_size = len(dataset['new_cases']) - train_size\n",
    "train_new_cases, test_new_cases = dataset['new_cases'].iloc[0:train_size], dataset['new_cases'].iloc[train_size:len(dataset['new_cases'])]"
   ]
  },
  {
   "cell_type": "code",
   "execution_count": null,
   "metadata": {
    "colab": {},
    "colab_type": "code",
    "id": "wi7YUFNNPHfu"
   },
   "outputs": [],
   "source": [
    "train_size = int(len(dataset['total_cases']) * 0.7)\n",
    "test_size = len(dataset['total_cases']) - train_size\n",
    "train_total_cases, test_total_cases = dataset['total_cases'].iloc[0:train_size], dataset['total_cases'].iloc[train_size:len(dataset['total_cases'])]"
   ]
  },
  {
   "cell_type": "code",
   "execution_count": null,
   "metadata": {
    "colab": {},
    "colab_type": "code",
    "id": "yhBbo6GrOuCm"
   },
   "outputs": [],
   "source": [
    "train_size = int(len(dataset['new_deaths']) * 0.7)\n",
    "test_size = len(dataset['new_deaths']) - train_size\n",
    "train_new_deaths, test_new_deaths = dataset['new_deaths'].iloc[0:train_size], dataset['new_deaths'].iloc[train_size:len(dataset['new_deaths'])]"
   ]
  },
  {
   "cell_type": "markdown",
   "metadata": {
    "colab_type": "text",
    "id": "jb7WYbCCa5ug"
   },
   "source": [
    "## Normalize the data"
   ]
  },
  {
   "cell_type": "code",
   "execution_count": null,
   "metadata": {
    "colab": {},
    "colab_type": "code",
    "id": "zCs3zcvnbCNZ"
   },
   "outputs": [],
   "source": [
    "def norm_data(all_data, reverse = False):\n",
    "  if (reverse):\n",
    "    return lambda data: (data * np.std(all_data)) + np.mean(all_data)\n",
    "  else:\n",
    "    return lambda data: (data - np.mean(all_data)) / np.std(all_data)"
   ]
  },
  {
   "cell_type": "code",
   "execution_count": null,
   "metadata": {
    "colab": {},
    "colab_type": "code",
    "id": "gTdYAWYBU1ya"
   },
   "outputs": [],
   "source": [
    "# normalize new cases\n",
    "fun_norm_new_cases = norm_data(dataset['new_cases'])\n",
    "norm_train_new_cases = fun_norm_new_cases(train_new_cases)\n",
    "norm_test_new_cases = fun_norm_new_cases(test_new_cases)\n",
    "\n",
    "# normalize total cases\n",
    "fun_norm_total_cases = norm_data(dataset['total_cases'])\n",
    "norm_train_total_cases = fun_norm_total_cases(train_total_cases)\n",
    "norm_test_total_cases = fun_norm_total_cases(test_total_cases)\n",
    "\n",
    "# normalize death cases\n",
    "fun_norm_death_cases = norm_data(dataset['new_deaths'])\n",
    "norm_train_death_cases = fun_norm_death_cases(train_new_deaths)\n",
    "norm_test_death_cases = fun_norm_death_cases(test_new_deaths)"
   ]
  },
  {
   "cell_type": "markdown",
   "metadata": {
    "colab_type": "text",
    "id": "C2UszksVc81k"
   },
   "source": [
    "## Prepare input data"
   ]
  },
  {
   "cell_type": "code",
   "execution_count": null,
   "metadata": {
    "colab": {
     "base_uri": "https://localhost:8080/",
     "height": 82
    },
    "colab_type": "code",
    "id": "6ytHZU1ecdmp",
    "outputId": "c88ebd57-cad6-4bc9-a33f-57190b4c09dd"
   },
   "outputs": [],
   "source": [
    "train_input = np.vstack((norm_train_new_cases, norm_train_total_cases)).T\n",
    "test_input = np.vstack((norm_test_new_cases, norm_test_total_cases)).T\n",
    "\n",
    "# print shape data\n",
    "print(\"train input shape %s\" %(train_input.shape,))\n",
    "print(\"test input shape %s\" %(test_input.shape,))\n",
    "print(\"train death cases shape %s\" %(norm_train_death_cases.shape,))\n",
    "print(\"test death cases shape %s\" %(norm_test_death_cases.shape,))"
   ]
  },
  {
   "cell_type": "markdown",
   "metadata": {
    "colab_type": "text",
    "id": "E85S3bmKeQdd"
   },
   "source": [
    "### Create a model"
   ]
  },
  {
   "cell_type": "code",
   "execution_count": null,
   "metadata": {
    "colab": {},
    "colab_type": "code",
    "id": "28FKaSQTeVt0"
   },
   "outputs": [],
   "source": [
    "model = tf.keras.models.Sequential([              \n",
    "  tf.keras.layers.Lambda(lambda x: tf.expand_dims(x, axis=-1), input_shape=[None]),\n",
    "  tf.keras.layers.LSTM(64, return_sequences=True),\n",
    "  tf.keras.layers.LSTM(64, return_sequences=True),          \n",
    "  tf.keras.layers.Dense(128, activation='relu', input_shape=[train_input.shape[1]]),\n",
    "  tf.keras.layers.Dense(64, activation='relu'),\n",
    "  tf.keras.layers.Dense(1),\n",
    "  tf.keras.layers.Lambda(lambda x: x * 10.0)\n",
    "])\n",
    "\n",
    "lr_schedule = tf.keras.callbacks.LearningRateScheduler(lambda epoch: 0.001 * 10**(epoch / 20))\n",
    "optimizer = tf.keras.optimizers.Adam(learning_rate=0.001)\n",
    "model.compile(loss='mse',\n",
    "              optimizer=optimizer,\n",
    "              metrics=['mse'])"
   ]
  },
  {
   "cell_type": "code",
   "execution_count": null,
   "metadata": {
    "colab": {
     "base_uri": "https://localhost:8080/",
     "height": 375
    },
    "colab_type": "code",
    "id": "h1VezXnBfB3L",
    "outputId": "6a424267-5872-4214-a782-6fac11706bc3"
   },
   "outputs": [],
   "source": [
    "model.summary()"
   ]
  },
  {
   "cell_type": "code",
   "execution_count": null,
   "metadata": {
    "colab": {
     "base_uri": "https://localhost:8080/",
     "height": 245
    },
    "colab_type": "code",
    "id": "WAD61uXtcWay",
    "outputId": "e54e784f-a39e-42ed-deed-edbaf5d9cafe"
   },
   "outputs": [],
   "source": [
    "EPOCHS = 1000\n",
    "\n",
    "class myCallback(tf.keras.callbacks.Callback):\n",
    "  def on_epoch_end(self, epoch, logs={}):\n",
    "    if(logs.get('loss') <= 0.2):\n",
    "      print(\"\\nReached loss below 20%, so cancelling training!\")\n",
    "      self.model.stop_training = True\n",
    "\n",
    "accuracy_callback = myCallback()\n",
    "history = model.fit(train_input, norm_train_death_cases,\n",
    "                    epochs=EPOCHS,\n",
    "                    callbacks=[lr_schedule,tfdocs.modeling.EpochDots(), accuracy_callback])"
   ]
  },
  {
   "cell_type": "code",
   "execution_count": null,
   "metadata": {
    "colab": {
     "base_uri": "https://localhost:8080/",
     "height": 637
    },
    "colab_type": "code",
    "id": "fUuJVnA0Ofye",
    "outputId": "bcd4d8b1-417c-4223-dfdc-eb7e0dfd9395"
   },
   "outputs": [],
   "source": [
    "plt.semilogx(history.history[\"lr\"], history.history[\"loss\"])\n",
    "plt.title(\"Learning rate vs Loss\")"
   ]
  },
  {
   "cell_type": "code",
   "execution_count": null,
   "metadata": {
    "colab": {
     "base_uri": "https://localhost:8080/",
     "height": 633
    },
    "colab_type": "code",
    "id": "AbR7NoJUgc5y",
    "outputId": "48542811-6cff-4918-d3ae-cc458cb6f1fa"
   },
   "outputs": [],
   "source": [
    "loss, mse = model.evaluate(test_input, norm_test_death_cases, verbose=0)\n",
    "\n",
    "# try to predict the new death cases using test data\n",
    "pred_norm_value = model.predict(test_input)\n",
    "# create unormalize function\n",
    "fun_unorm_death_cases = norm_data(dataset['new_deaths'], True)\n",
    "pred_new_deaths = fun_unorm_death_cases(pred_norm_value)\n",
    "pred_new_deaths = np.round(pred_new_deaths)\n",
    "\n",
    "# try compare with real value\n",
    "np_compare = np.array([pred_new_deaths.flatten(), test_new_deaths]).T\n",
    "dt_compare = pd.DataFrame({'pred_new_deaths': np_compare[:, 0], 'real_new_deaths': np_compare[:, 1]})\n",
    "dt_compare.plot()\n",
    "print(\"Loss: %f\" %(loss))\n",
    "print(\"MSE: %f\" %(mse))"
   ]
  },
  {
   "cell_type": "code",
   "execution_count": null,
   "metadata": {
    "colab": {
     "base_uri": "https://localhost:8080/",
     "height": 1000
    },
    "colab_type": "code",
    "id": "MWyTNWC7tPkZ",
    "outputId": "39163512-5f85-4555-f3eb-b0895aa8da46"
   },
   "outputs": [],
   "source": [
    "dt_compare"
   ]
  },
  {
   "cell_type": "code",
   "execution_count": null,
   "metadata": {
    "colab": {
     "base_uri": "https://localhost:8080/",
     "height": 667
    },
    "colab_type": "code",
    "id": "nmx48NqekxEd",
    "outputId": "c865bed4-1a37-4c42-c709-12517d2d7d5d"
   },
   "outputs": [],
   "source": [
    "list_date = (df_new_deaths['date'][(-1 * len(test_new_deaths)):]).tolist()\n",
    "dt_compare.assign(date=list_date)\n",
    "list_date\n"
   ]
  },
  {
   "cell_type": "code",
   "execution_count": null,
   "metadata": {
    "colab": {},
    "colab_type": "code",
    "id": "pQynApqdk3GP"
   },
   "outputs": [],
   "source": []
  }
 ],
 "metadata": {
  "colab": {
   "collapsed_sections": [],
   "name": "Covid World New Death Case Prediction.ipynb",
   "provenance": []
  },
  "kernelspec": {
   "display_name": "Python 3",
   "language": "python",
   "name": "python3"
  },
  "language_info": {
   "codemirror_mode": {
    "name": "ipython",
    "version": 3
   },
   "file_extension": ".py",
   "mimetype": "text/x-python",
   "name": "python",
   "nbconvert_exporter": "python",
   "pygments_lexer": "ipython3",
   "version": "3.8.1"
  }
 },
 "nbformat": 4,
 "nbformat_minor": 1
}

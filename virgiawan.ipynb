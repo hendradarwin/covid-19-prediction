{
  "nbformat": 4,
  "nbformat_minor": 0,
  "metadata": {
    "colab": {
      "name": "main.ipynb",
      "provenance": [],
      "private_outputs": true,
      "collapsed_sections": []
    },
    "kernelspec": {
      "name": "python3",
      "display_name": "Python 3"
    }
  },
  "cells": [
    {
      "cell_type": "markdown",
      "metadata": {
        "id": "OR_Ige6y2k5u",
        "colab_type": "text"
      },
      "source": [
        "#Time Series Prediction Global Covid-19 Cases\n"
      ]
    },
    {
      "cell_type": "code",
      "metadata": {
        "id": "a2NWPZfsgDIK",
        "colab_type": "code",
        "colab": {}
      },
      "source": [
        "%tensorflow_version 2.x # make sure that collab use tensorflow 2\n",
        "import numpy as np\n",
        "import tensorflow as tf\n",
        "from tensorflow import keras\n",
        "import pandas as pd\n",
        "import seaborn as sns\n",
        "from pylab import rcParams\n",
        "import matplotlib.pyplot as plt\n",
        "from matplotlib import rc\n",
        "import os\n",
        "import datetime\n",
        "\n",
        "%matplotlib inline\n",
        "%config InlineBackend.figure_format='retina'\n",
        "\n",
        "sns.set(style='whitegrid', palette='muted', font_scale=1.5)\n",
        "rcParams['figure.figsize'] = 16, 10\n",
        "\n",
        "RANDOM_SEED = 42\n",
        "\n",
        "np.random.seed(RANDOM_SEED)\n",
        "tf.random.set_seed(RANDOM_SEED)\n"
      ],
      "execution_count": 0,
      "outputs": []
    },
    {
      "cell_type": "code",
      "metadata": {
        "id": "UnWzMFLfskip",
        "colab_type": "code",
        "colab": {}
      },
      "source": [
        "downloaded = tf.keras.utils.get_file(origin='https://raw.githubusercontent.com/virgiawan/covid-19-prediction/master/dataset/global_total.csv', fname='global_total.csv', extract=False)\n",
        "csv_path, _ = os.path.splitext(downloaded+'.csv')\n",
        "downloaded"
      ],
      "execution_count": 0,
      "outputs": []
    },
    {
      "cell_type": "code",
      "metadata": {
        "id": "kdjCHYXw_Nts",
        "colab_type": "code",
        "colab": {}
      },
      "source": [
        "# !rm '/root/.keras/datasets/global_total.csv'"
      ],
      "execution_count": 0,
      "outputs": []
    },
    {
      "cell_type": "code",
      "metadata": {
        "id": "vDMbKpoJszwi",
        "colab_type": "code",
        "colab": {}
      },
      "source": [
        "csv_path\n",
        "df = pd.read_csv(csv_path)\n"
      ],
      "execution_count": 0,
      "outputs": []
    },
    {
      "cell_type": "code",
      "metadata": {
        "id": "cFtaDmBitFIJ",
        "colab_type": "code",
        "colab": {}
      },
      "source": [
        "univariat_data = df[' Confirmed Case']\n",
        "dateToString = lambda date: date.strftime(\"%d/%m/%Y\")\n",
        "base = datetime.datetime(2020, 1, 22, 0, 0)\n",
        "date_list = [base + datetime.timedelta(days=x) for x in range(len(univariat_data))]\n",
        "date_list = list(map(dateToString, date_list))\n",
        "univariat_data.index = date_list\n",
        "univariat_data"
      ],
      "execution_count": 0,
      "outputs": []
    },
    {
      "cell_type": "code",
      "metadata": {
        "id": "crjZ9w3DuQ7A",
        "colab_type": "code",
        "colab": {}
      },
      "source": [
        "univariat_data.plot(subplots=True, title=\"Covid 19 Global Occurence\")"
      ],
      "execution_count": 0,
      "outputs": []
    },
    {
      "cell_type": "code",
      "metadata": {
        "id": "j27SNLBx_4OC",
        "colab_type": "code",
        "colab": {}
      },
      "source": [
        "df_univariat = univariat_data.to_frame()\n",
        "df_univariat"
      ],
      "execution_count": 0,
      "outputs": []
    },
    {
      "cell_type": "code",
      "metadata": {
        "id": "1LDMPuDsDEJJ",
        "colab_type": "code",
        "colab": {}
      },
      "source": [
        "train_size = int(len(df_univariat) * 0.8)\n",
        "test_size = len(df_univariat) - train_size\n",
        "train, test = df_univariat.iloc[0:train_size], df_univariat.iloc[train_size:len(df_univariat)]\n",
        "print(len(train), len(test))"
      ],
      "execution_count": 0,
      "outputs": []
    },
    {
      "cell_type": "code",
      "metadata": {
        "id": "7nv4prF-12uP",
        "colab_type": "code",
        "colab": {}
      },
      "source": [
        "def create_dataset(X, y, time_steps=1):\n",
        "    Xs, ys = [], []\n",
        "    for i in range(len(X) - time_steps):\n",
        "        v = X.iloc[i:(i + time_steps)].values\n",
        "        Xs.append(v)\n",
        "        ys.append(y.iloc[i + time_steps])\n",
        "    return np.array(Xs), np.array(ys)"
      ],
      "execution_count": 0,
      "outputs": []
    },
    {
      "cell_type": "code",
      "metadata": {
        "id": "8Q-SHK4d2U_R",
        "colab_type": "code",
        "colab": {}
      },
      "source": [
        "time_steps = 7\n",
        "\n",
        "# reshape to [samples, time_steps, n_features]\n",
        "\n",
        "X_train, y_train = create_dataset(train, train[' Confirmed Case'], time_steps)\n",
        "X_test, y_test = create_dataset(test, train[' Confirmed Case'], time_steps)\n",
        "\n",
        "print(X_train.shape, y_train.shape)"
      ],
      "execution_count": 0,
      "outputs": []
    },
    {
      "cell_type": "code",
      "metadata": {
        "id": "6QMWRjP0DXpg",
        "colab_type": "code",
        "colab": {}
      },
      "source": [
        "# print(X_train)\n",
        "print(X_train[2])\n",
        "print(X_train[2][1])\n",
        "y_train[2]"
      ],
      "execution_count": 0,
      "outputs": []
    },
    {
      "cell_type": "code",
      "metadata": {
        "id": "-ydBD0OmDkfN",
        "colab_type": "code",
        "colab": {}
      },
      "source": [
        "def create_time_steps(length):\n",
        "  return list(range(-length, 0))\n",
        "  \n",
        "def show_plot(plot_data, delta, title):\n",
        "  labels = ['History', 'True Future', 'Model Prediction']\n",
        "  marker = ['.-', 'rx', 'go']\n",
        "  time_steps = create_time_steps(plot_data[0].shape[0])\n",
        "  if delta:\n",
        "    future = delta\n",
        "  else:\n",
        "    future = 0\n",
        "\n",
        "  plt.title(title)\n",
        "  for i, x in enumerate(plot_data):\n",
        "    if i:\n",
        "      plt.plot(future, plot_data[i], marker[i], markersize=10,\n",
        "               label=labels[i])\n",
        "    else:\n",
        "      plt.plot(time_steps, plot_data[i].flatten(), marker[i], label=labels[i])\n",
        "  plt.legend()\n",
        "  plt.xlim([time_steps[0], (future+5)*2])\n",
        "  plt.xlabel('Time-Step')\n",
        "  return plt"
      ],
      "execution_count": 0,
      "outputs": []
    },
    {
      "cell_type": "code",
      "metadata": {
        "id": "CBzPuhGuGLuT",
        "colab_type": "code",
        "colab": {}
      },
      "source": [
        "show_plot([X_train[0], y_train[0]], 0, 'Sample Example Window 1st')"
      ],
      "execution_count": 0,
      "outputs": []
    },
    {
      "cell_type": "code",
      "metadata": {
        "id": "klY439lGGSHe",
        "colab_type": "code",
        "colab": {},
        "cellView": "code"
      },
      "source": [
        "#@title Default title text\n",
        "def create_model(x, learning_rate):\n",
        "  model = keras.Sequential()\n",
        "  # pakai RNN Sort Term Memory\n",
        "  # model.add(keras.layers.LSTM(\n",
        "  #   units=128,\n",
        "  #   input_shape=(x.shape[1], x.shape[2])\n",
        "  # ))\n",
        "  # model.add(keras.layers.Dense(units=1))\n",
        "  # model.compile(\n",
        "  #   loss='mean_squared_error',\n",
        "  #   optimizer=keras.optimizers.Adam(0.001)\n",
        "  # )\n",
        "\n",
        "  # simple sequence\n",
        "  model.add(tf.keras.layers.Dense(units=1, \n",
        "                                  input_shape=(x.shape[1], x.shape[2])))\n",
        "  \n",
        "  model.compile(optimizer=tf.keras.optimizers.RMSprop(lr=learning_rate),\n",
        "                loss=\"mean_squared_error\",\n",
        "                metrics=[tf.keras.metrics.RootMeanSquaredError()])\n",
        "  return model"
      ],
      "execution_count": 0,
      "outputs": []
    },
    {
      "cell_type": "code",
      "metadata": {
        "id": "Ab-L5hN5Hz8d",
        "colab_type": "code",
        "colab": {}
      },
      "source": [
        "model = create_model(X_train, 0.01)\n",
        "history = model.fit(\n",
        "    X_train, y_train,\n",
        "    epochs=500,\n",
        "    verbose=1,\n",
        "    batch_size=None,\n",
        ")"
      ],
      "execution_count": 0,
      "outputs": []
    },
    {
      "cell_type": "code",
      "metadata": {
        "id": "vLXjsNB8H49A",
        "colab_type": "code",
        "colab": {}
      },
      "source": [
        ""
      ],
      "execution_count": 0,
      "outputs": []
    }
  ]
}
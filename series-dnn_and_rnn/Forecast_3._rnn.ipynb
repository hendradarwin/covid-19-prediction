{
 "cells": [
  {
    "cell_type": "markdown",
    "metadata": {
        "colab_type": "text",
        "id": "view-in-github"
    },
    "source": [
        "<a href=\"https://colab.research.google.com/github/hendradarwin/covid-19-prediction/blob/master/series-dnn_and_rnn/Forecast_3._rnn.ipynb\" target=\"_parent\"><img src=\"https://colab.research.google.com/assets/colab-badge.svg\" alt=\"Open In Colab\"/></a>"
    ]
  }, 
  {
   "cell_type": "markdown",
   "metadata": {
    "colab_type": "text",
    "id": "hAoU-eqeNTuw"
   },
   "source": [
    "## Pediction New Death Cases Global Covid-19 Cases"
   ]
  },
  {
   "cell_type": "markdown",
   "metadata": {
    "colab_type": "text",
    "id": "pKR2i3ztNXxS"
   },
   "source": [
    "## Load Data and Import Libraries"
   ]
  },
  {
   "cell_type": "code",
   "execution_count": null,
   "metadata": {
    "colab": {
     "base_uri": "https://localhost:8080/",
     "height": 34
    },
    "colab_type": "code",
    "id": "aUd_9nGeNbl_",
    "outputId": "3d7da19f-f3e2-4604-e56f-c82b6bc0c4ad"
   },
   "outputs": [],
   "source": [
    "# Use some functions from tensorflow_docs\n",
    "!pip install -q git+https://github.com/tensorflow/docs"
   ]
  },
  {
   "cell_type": "code",
   "execution_count": null,
   "metadata": {
    "colab": {
     "base_uri": "https://localhost:8080/",
     "height": 119
    },
    "colab_type": "code",
    "id": "U7BZYvWuNh_g",
    "outputId": "ccfcc71d-1835-417b-b150-9fad00d59c48"
   },
   "outputs": [],
   "source": [
    "%tensorflow_version 2.x # make sure that collab use tensorflow 2\n",
    "import numpy as np\n",
    "import tensorflow as tf\n",
    "import tensorflow_probability as tfp\n",
    "from tensorflow import keras\n",
    "import pandas as pd\n",
    "import seaborn as sns\n",
    "from pylab import rcParams\n",
    "import matplotlib.pyplot as plt\n",
    "from matplotlib import rc\n",
    "import os\n",
    "import datetime\n",
    "import tensorflow_docs as tfdocs\n",
    "import tensorflow_docs.plots\n",
    "import tensorflow_docs.modeling\n",
    "# from google.colab import drive\n",
    "# drive.mount('/content/drive')\n",
    "\n",
    "%matplotlib inline\n",
    "%config InlineBackend.figure_format='retina'\n",
    "\n",
    "sns.set(style='whitegrid', palette='muted', font_scale=1.5)\n",
    "rcParams['figure.figsize'] = 16, 10"
   ]
  },
  {
   "cell_type": "code",
   "execution_count": null,
   "metadata": {
    "colab": {},
    "colab_type": "code",
    "id": "mrmooEB1NlX7"
   },
   "outputs": [],
   "source": [
    "# !rm '/root/.keras/datasets/global_total.csv'"
   ]
  },
  {
   "cell_type": "markdown",
   "metadata": {
    "colab_type": "text",
    "id": "R5zN5CMZNzLI"
   },
   "source": [
    "## Load Data\n"
   ]
  },
  {
   "cell_type": "code",
   "execution_count": null,
   "metadata": {
    "colab": {},
    "colab_type": "code",
    "id": "WJhdjr6CN2ML"
   },
   "outputs": [],
   "source": [
    "df_new_cases = pd.read_csv(\"https://raw.githubusercontent.com/virgiawan/covid-19-prediction/linear-regression/dataset/corona-virus/new_cases.csv\")"
   ]
  },
  {
   "cell_type": "code",
   "execution_count": null,
   "metadata": {
    "colab": {},
    "colab_type": "code",
    "id": "nefb6e7wN4fS"
   },
   "outputs": [],
   "source": [
    "def plot_series(time, series, format=\"-\", start=0, end=None):\n",
    "    plt.plot(time[start:end], series[start:end], format)\n",
    "    plt.xlabel(\"Time\")\n",
    "    plt.ylabel(\"Value\")\n",
    "    plt.grid(True)\n"
   ]
  },
  {
   "cell_type": "code",
   "execution_count": null,
   "metadata": {
    "colab": {},
    "colab_type": "code",
    "id": "MVBpwYq3OqOH"
   },
   "outputs": [],
   "source": [
    "step = 0;\n",
    "times = []\n",
    "series = []\n",
    "\n",
    "for case in df_new_cases['World']:\n",
    "  times.append(step)\n",
    "  series.append(case)\n",
    "  step += 1"
   ]
  },
  {
   "cell_type": "code",
   "execution_count": null,
   "metadata": {
    "colab": {
     "base_uri": "https://localhost:8080/",
     "height": 639
    },
    "colab_type": "code",
    "id": "vgH_Kl8XO5pk",
    "outputId": "fedd4c7d-973e-4b18-8784-b6094173a7ea"
   },
   "outputs": [],
   "source": [
    "plot_series(times, series)\n",
    "print('Total data {} series'.format(len(series)))"
   ]
  },
  {
   "cell_type": "code",
   "execution_count": null,
   "metadata": {
    "colab": {
     "base_uri": "https://localhost:8080/",
     "height": 639
    },
    "colab_type": "code",
    "id": "GjWf7FFLPLJQ",
    "outputId": "62f5d920-195e-4d96-c7f7-d2ab79d0cbc8"
   },
   "outputs": [],
   "source": [
    "# Series 0 - 63 indicate flat data. Data not increased significantly. \n",
    "# Try to ignore it first\n",
    "skip = 0\n",
    "used_series = series[skip:]\n",
    "used_times = times[skip:]\n",
    "\n",
    "plot_series(used_times, used_series)\n",
    "print('Total data {} series'.format(len(used_series)))"
   ]
  },
  {
   "cell_type": "code",
   "execution_count": null,
   "metadata": {
    "colab": {},
    "colab_type": "code",
    "id": "Z70NeP--S_-8"
   },
   "outputs": [],
   "source": [
    "split_percentage = 0.70\n",
    "split_time = (int) (len(used_times) * split_percentage)\n",
    "\n",
    "time_train = used_times[:split_time]\n",
    "x_train = used_series[:split_time]\n",
    "time_valid = used_times[split_time:]\n",
    "x_valid = used_series[split_time:]"
   ]
  },
  {
   "cell_type": "code",
   "execution_count": null,
   "metadata": {
    "colab": {},
    "colab_type": "code",
    "id": "XjthxWaoR3-0"
   },
   "outputs": [],
   "source": [
    "# create RNN window\n",
    "def windowed_dataset_rnn(series, window_size, batch_size, shuffle_buffer):\n",
    "  series = tf.expand_dims(series, axis=-1)\n",
    "  dataset = tf.data.Dataset.from_tensor_slices(series)\n",
    "  dataset = dataset.window(window_size + 1, shift=1, drop_remainder=True)\n",
    "  dataset = dataset.flat_map(lambda window: window.batch(window_size + 1))\n",
    "  dataset = dataset.shuffle(shuffle_buffer)\n",
    "  dataset = dataset.map(lambda window: (window[:-1], window[-1]))\n",
    "  dataset = dataset.batch(batch_size).prefetch(1)\n",
    "  return dataset\n"
   ]
  },
  {
   "cell_type": "code",
   "execution_count": null,
   "metadata": {
    "colab": {},
    "colab_type": "code",
    "id": "LFvgkCRORUl-"
   },
   "outputs": [],
   "source": [
    "# define hyper parameter\n",
    "window_size = 7\n",
    "batch_size = 2\n",
    "shuffle_buffer_size = 10\n",
    "epochs = 100"
   ]
  },
  {
   "cell_type": "code",
   "execution_count": null,
   "metadata": {
    "colab": {},
    "colab_type": "code",
    "id": "NwVl_BCyZ2R9"
   },
   "outputs": [],
   "source": [
    "tf.keras.backend.clear_session()\n",
    "tf.random.set_seed(51)\n",
    "np.random.seed(51)\n",
    "\n",
    "dataset = windowed_dataset_rnn(x_train, window_size, batch_size, shuffle_buffer_size)\n",
    "\n",
    "l0 = tf.keras.layers.Conv1D(filters=128, kernel_size=5,\n",
    "                      strides=1, padding=\"causal\",\n",
    "                      activation=\"relu\",\n",
    "                      input_shape=[None, 1])\n",
    "l1 = tf.keras.layers.Bidirectional(tf.keras.layers.LSTM(16, return_sequences=True))\n",
    "l2 = tf.keras.layers.Dense(1)\n",
    "l3 = tf.keras.layers.Lambda(lambda x: x * 10000)\n",
    "\n",
    "model = tf.keras.models.Sequential([l0, l1, l2, l3])\n",
    "\n",
    "lr_schedule = tf.keras.callbacks.LearningRateScheduler(\n",
    "    lambda epoch: 1e-8 * 10**(epoch / 10))\n",
    "optimizer = tf.keras.optimizers.SGD(lr=1e-8, momentum=0.9)\n",
    "model.compile(loss=tf.keras.losses.Huber(), optimizer=optimizer, metrics=['mae'])\n",
    "history = model.fit(dataset, epochs=epochs, callbacks=[lr_schedule], verbose=0)"
   ]
  },
  {
   "cell_type": "code",
   "execution_count": null,
   "metadata": {
    "colab": {
     "base_uri": "https://localhost:8080/",
     "height": 625
    },
    "colab_type": "code",
    "id": "bqtpYaFFQlmd",
    "outputId": "cc5540fc-6db6-4153-9074-37412ad29224"
   },
   "outputs": [],
   "source": [
    "plt.semilogx(history.history[\"lr\"], history.history[\"loss\"])\n",
    "plt.axis([1e-8, 10, 0, 100000])"
   ]
  },
  {
   "cell_type": "code",
   "execution_count": null,
   "metadata": {
    "colab": {
     "base_uri": "https://localhost:8080/",
     "height": 639
    },
    "colab_type": "code",
    "id": "csyuw0rwXQ7E",
    "outputId": "a4e13866-29ad-4152-9d60-f2a6e4d55737"
   },
   "outputs": [],
   "source": [
    "tf.keras.backend.clear_session()\n",
    "tf.random.set_seed(51)\n",
    "np.random.seed(51)\n",
    "epochs = 1000\n",
    "\n",
    "dataset = windowed_dataset_rnn(x_train, window_size, batch_size, shuffle_buffer_size)\n",
    "\n",
    "l0 = tf.keras.layers.Conv1D(filters=128, kernel_size=5,\n",
    "                      strides=1, padding=\"causal\",\n",
    "                      activation=\"relu\",\n",
    "                      input_shape=[None, 1])\n",
    "l1 = tf.keras.layers.Bidirectional(tf.keras.layers.LSTM(1, return_sequences=True))\n",
    "l2 = tf.keras.layers.Dense(1)\n",
    "l3 = tf.keras.layers.Lambda(lambda x: x * 10000)\n",
    "\n",
    "model = tf.keras.models.Sequential([l0, l1, l2, l3])\n",
    "\n",
    "optimizer = tf.keras.optimizers.SGD(lr=1e-7, momentum=0.9)\n",
    "model.compile(loss=tf.keras.losses.Huber(), optimizer=optimizer, metrics=['mae'])\n",
    "history = model.fit(dataset, epochs=epochs, verbose=0)\n",
    "loss = history.history['loss']\n",
    "\n",
    "print(\"Loss {}\".format(loss[-1:]))\n",
    "plot_series(range(0, epochs), loss)"
   ]
  },
  {
   "cell_type": "code",
   "execution_count": null,
   "metadata": {
    "colab": {
     "base_uri": "https://localhost:8080/",
     "height": 676
    },
    "colab_type": "code",
    "id": "AUjfakLURbVp",
    "outputId": "53b6ed0f-4f50-4940-94ae-2a9c030f4dc3"
   },
   "outputs": [],
   "source": [
    "plt.semilogx(range(0, epochs), history.history[\"loss\"])\n",
    "plt.axis([0, 1000, 15000, 24000])"
   ]
  },
  {
   "cell_type": "code",
   "execution_count": null,
   "metadata": {
    "colab": {
     "base_uri": "https://localhost:8080/",
     "height": 404
    },
    "colab_type": "code",
    "id": "cbiIkpMJWM1o",
    "outputId": "f14d11f3-4879-4518-db89-1a236be05a09"
   },
   "outputs": [],
   "source": [
    "forecast = []\n",
    "np_used_series = np.array(used_series)\n",
    "np_used_series = tf.expand_dims(np_used_series, axis=-1)\n",
    "\n",
    "for time in range(len(np_used_series) - window_size):\n",
    "  forecast.append(model.predict(np_used_series[time:time + window_size][np.newaxis]))\n",
    "\n",
    "forecast = forecast[split_time-window_size:]\n",
    "results = np.array(forecast)[:, 0, 0]\n",
    "\n",
    "plt.figure(figsize=(10, 6))\n",
    "plot_series(time_valid, x_valid)\n",
    "plot_series(time_valid, results)"
   ]
  },
  {
   "cell_type": "code",
   "execution_count": null,
   "metadata": {
    "colab": {
     "base_uri": "https://localhost:8080/",
     "height": 102
    },
    "colab_type": "code",
    "id": "myadmvpWa4TX",
    "outputId": "d8d53309-e4c9-48ee-dde1-e711b68e4d51"
   },
   "outputs": [],
   "source": [
    "tf.keras.metrics.mean_absolute_error(x_valid, results).numpy()"
   ]
  }
 ],
 "metadata": {
  "accelerator": "GPU",
  "colab": {
   "collapsed_sections": [],
   "name": "Forecast 3.ipynb",
   "provenance": []
  },
  "kernelspec": {
   "display_name": "Python 3",
   "language": "python",
   "name": "python3"
  },
  "language_info": {
   "codemirror_mode": {
    "name": "ipython",
    "version": 3
   },
   "file_extension": ".py",
   "mimetype": "text/x-python",
   "name": "python",
   "nbconvert_exporter": "python",
   "pygments_lexer": "ipython3",
   "version": "3.8.1"
  }
 },
 "nbformat": 4,
 "nbformat_minor": 1
}
